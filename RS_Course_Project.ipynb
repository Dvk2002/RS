{
 "cells": [
  {
   "cell_type": "code",
   "execution_count": 237,
   "metadata": {
    "id": "5Aur99NsC4Jm",
    "outputId": "9b9a338b-a52f-4253-9694-ac431b62eefc"
   },
   "outputs": [],
   "source": [
    "import pandas as pd\n",
    "import numpy as np\n",
    "import matplotlib.pyplot as plt\n",
    "%matplotlib inline\n",
    "\n",
    "from scipy.sparse import csr_matrix\n",
    "import shap\n",
    "from sklearn.ensemble import VotingClassifier\n",
    "from sklearn.inspection import permutation_importance\n",
    "from sklearn.model_selection import KFold, StratifiedKFold,GroupKFold,cross_validate\n",
    "from sklearn.base import clone\n",
    "\n",
    "\n",
    "\n",
    "from implicit import als\n",
    "from implicit.nearest_neighbours import bm25_weight, tfidf_weight\n",
    "from catboost import CatBoostClassifier\n",
    "from lightgbm import LGBMClassifier\n",
    "from implicit.bpr import BayesianPersonalizedRanking\n",
    "import os, sys\n",
    "module_path = os.path.abspath(os.path.join(os.pardir))\n",
    "if module_path not in sys.path:\n",
    "    sys.path.append(module_path)\n",
    "import shap\n",
    "# Написанные нами функции\n",
    "from src.metrics import precision_at_k, recall_at_k\n",
    "from src.utils import prefilter_items\n",
    "from recommenders import MainRecommender"
   ]
  },
  {
   "cell_type": "code",
   "execution_count": 3,
   "metadata": {},
   "outputs": [],
   "source": [
    "def warn(*args, **kwargs):\n",
    "    pass\n",
    "import warnings\n",
    "warnings.warn = warn"
   ]
  },
  {
   "cell_type": "code",
   "execution_count": 4,
   "metadata": {
    "id": "vso_erSdC4Jo",
    "outputId": "da20dbf1-3086-4fd6-ac92-f7653d7f9f71"
   },
   "outputs": [
    {
     "data": {
      "text/html": [
       "<div>\n",
       "<style scoped>\n",
       "    .dataframe tbody tr th:only-of-type {\n",
       "        vertical-align: middle;\n",
       "    }\n",
       "\n",
       "    .dataframe tbody tr th {\n",
       "        vertical-align: top;\n",
       "    }\n",
       "\n",
       "    .dataframe thead th {\n",
       "        text-align: right;\n",
       "    }\n",
       "</style>\n",
       "<table border=\"1\" class=\"dataframe\">\n",
       "  <thead>\n",
       "    <tr style=\"text-align: right;\">\n",
       "      <th></th>\n",
       "      <th>user_id</th>\n",
       "      <th>basket_id</th>\n",
       "      <th>day</th>\n",
       "      <th>item_id</th>\n",
       "      <th>quantity</th>\n",
       "      <th>sales_value</th>\n",
       "      <th>store_id</th>\n",
       "      <th>retail_disc</th>\n",
       "      <th>trans_time</th>\n",
       "      <th>week_no</th>\n",
       "      <th>coupon_disc</th>\n",
       "      <th>coupon_match_disc</th>\n",
       "    </tr>\n",
       "  </thead>\n",
       "  <tbody>\n",
       "    <tr>\n",
       "      <th>0</th>\n",
       "      <td>2375</td>\n",
       "      <td>26984851472</td>\n",
       "      <td>1</td>\n",
       "      <td>1004906</td>\n",
       "      <td>1</td>\n",
       "      <td>1.39</td>\n",
       "      <td>364</td>\n",
       "      <td>-0.6</td>\n",
       "      <td>1631</td>\n",
       "      <td>1</td>\n",
       "      <td>0.0</td>\n",
       "      <td>0.0</td>\n",
       "    </tr>\n",
       "    <tr>\n",
       "      <th>1</th>\n",
       "      <td>2375</td>\n",
       "      <td>26984851472</td>\n",
       "      <td>1</td>\n",
       "      <td>1033142</td>\n",
       "      <td>1</td>\n",
       "      <td>0.82</td>\n",
       "      <td>364</td>\n",
       "      <td>0.0</td>\n",
       "      <td>1631</td>\n",
       "      <td>1</td>\n",
       "      <td>0.0</td>\n",
       "      <td>0.0</td>\n",
       "    </tr>\n",
       "  </tbody>\n",
       "</table>\n",
       "</div>"
      ],
      "text/plain": [
       "   user_id    basket_id  day  item_id  quantity  sales_value  store_id  \\\n",
       "0     2375  26984851472    1  1004906         1         1.39       364   \n",
       "1     2375  26984851472    1  1033142         1         0.82       364   \n",
       "\n",
       "   retail_disc  trans_time  week_no  coupon_disc  coupon_match_disc  \n",
       "0         -0.6        1631        1          0.0                0.0  \n",
       "1          0.0        1631        1          0.0                0.0  "
      ]
     },
     "execution_count": 4,
     "metadata": {},
     "output_type": "execute_result"
    }
   ],
   "source": [
    "data = pd.read_csv('../data/retail_train.csv')\n",
    "item_features = pd.read_csv('../data/product.csv')\n",
    "user_features = pd.read_csv('../data/hh_demographic.csv')\n",
    "\n",
    "# column processing\n",
    "item_features.columns = [col.lower() for col in item_features.columns]\n",
    "user_features.columns = [col.lower() for col in user_features.columns]\n",
    "\n",
    "item_features.rename(columns={'product_id': 'item_id'}, inplace=True)\n",
    "user_features.rename(columns={'household_key': 'user_id'}, inplace=True)\n",
    "\n",
    "\n",
    "# Важна схема обучения и валидации!\n",
    "# -- давние покупки -- | -- 6 недель -- | -- 3 недель -- \n",
    "# подобрать размер 2-ого датасета (6 недель) --> learning curve (зависимость метрики recall@k от размера датасета)\n",
    "val_lvl_1_size_weeks = 6\n",
    "val_lvl_2_size_weeks = 3\n",
    "\n",
    "data_train_lvl_1 = data[data['week_no'] < data['week_no'].max() - (val_lvl_1_size_weeks + val_lvl_2_size_weeks)]\n",
    "data_val_lvl_1 = data[(data['week_no'] >= data['week_no'].max() - (val_lvl_1_size_weeks + val_lvl_2_size_weeks)) &\n",
    "                      (data['week_no'] < data['week_no'].max() - (val_lvl_2_size_weeks))]\n",
    "\n",
    "data_train_lvl_2 = data_val_lvl_1.copy()  # Для наглядности. Далее мы добавим изменения, и они будут отличаться\n",
    "data_val_lvl_2 = data[data['week_no'] >= data['week_no'].max() - val_lvl_2_size_weeks]\n",
    "\n",
    "data_train_lvl_1.head(2)"
   ]
  },
  {
   "cell_type": "code",
   "execution_count": 5,
   "metadata": {
    "id": "zcnV3l4XC4Jp",
    "outputId": "d58f889c-0671-4bb9-b2b6-2dc2e8c24fce"
   },
   "outputs": [
    {
     "name": "stdout",
     "output_type": "stream",
     "text": [
      "Decreased # items from 83685 to 5001\n"
     ]
    }
   ],
   "source": [
    "n_items_before = data_train_lvl_1['item_id'].nunique()\n",
    "\n",
    "data_train_lvl_1 = prefilter_items(data_train_lvl_1, item_features=item_features, take_n_popular=5000)\n",
    "\n",
    "n_items_after = data_train_lvl_1['item_id'].nunique()\n",
    "print('Decreased # items from {} to {}'.format(n_items_before, n_items_after))"
   ]
  },
  {
   "cell_type": "code",
   "execution_count": 6,
   "metadata": {
    "colab": {
     "referenced_widgets": [
      "729d4287bb794971802d9da5e141f10a",
      "32375ef613474af6a0fcadb9255eb835"
     ]
    },
    "id": "zgYXRQ0lC4Jq",
    "outputId": "d9ea41ae-3b4d-41b4-fc46-90868ebb9894"
   },
   "outputs": [
    {
     "name": "stderr",
     "output_type": "stream",
     "text": [
      "WARNING:root:Intel MKL BLAS detected. Its highly recommend to set the environment variable 'export MKL_NUM_THREADS=1' to disable its internal multithreading\n"
     ]
    },
    {
     "data": {
      "application/vnd.jupyter.widget-view+json": {
       "model_id": "74213ae41c02499f9556fd1dd6658b86",
       "version_major": 2,
       "version_minor": 0
      },
      "text/plain": [
       "HBox(children=(HTML(value=''), FloatProgress(value=0.0, max=15.0), HTML(value='')))"
      ]
     },
     "metadata": {},
     "output_type": "display_data"
    },
    {
     "name": "stdout",
     "output_type": "stream",
     "text": [
      "\n"
     ]
    },
    {
     "data": {
      "application/vnd.jupyter.widget-view+json": {
       "model_id": "65efa26778b749ea835a2ef2f3548977",
       "version_major": 2,
       "version_minor": 0
      },
      "text/plain": [
       "HBox(children=(HTML(value=''), FloatProgress(value=0.0, max=5001.0), HTML(value='')))"
      ]
     },
     "metadata": {},
     "output_type": "display_data"
    },
    {
     "name": "stdout",
     "output_type": "stream",
     "text": [
      "\n"
     ]
    }
   ],
   "source": [
    "recommender = MainRecommender(data_train_lvl_1)"
   ]
  },
  {
   "cell_type": "code",
   "execution_count": 10,
   "metadata": {},
   "outputs": [
    {
     "data": {
      "application/vnd.jupyter.widget-view+json": {
       "model_id": "7cd0a47cda414551bd8a685caf54f551",
       "version_major": 2,
       "version_minor": 0
      },
      "text/plain": [
       "HBox(children=(HTML(value=''), FloatProgress(value=0.0, max=10.0), HTML(value='')))"
      ]
     },
     "metadata": {},
     "output_type": "display_data"
    },
    {
     "name": "stdout",
     "output_type": "stream",
     "text": [
      "\n"
     ]
    }
   ],
   "source": [
    "# Изменим гиперпараметры\n",
    "\n",
    "recommender.model=recommender.fit(recommender.user_item_matrix,random=50, n_factors=4, regularization=0.03, iterations=10, num_threads=4)"
   ]
  },
  {
   "cell_type": "code",
   "execution_count": null,
   "metadata": {},
   "outputs": [],
   "source": []
  },
  {
   "cell_type": "code",
   "execution_count": 7,
   "metadata": {},
   "outputs": [],
   "source": [
    "def metr(X_train,y_train,train_preds):\n",
    "    X_res=X_train[['user_id','item_id']]\n",
    "    X_res['pred']=train_preds[:,1]\n",
    "    X_res['tag']=y_train\n",
    "    X_res=X_res.groupby(['user_id','item_id']).mean().reset_index()\n",
    "    metric=[]\n",
    "    for user in X_res.user_id.unique():\n",
    "        m=X_res[X_res.user_id==user].sort_values('pred',ascending = False)[:5].tag.sum()/5\n",
    "        metric.append(m)\n",
    "    return np.mean(metric)"
   ]
  },
  {
   "cell_type": "code",
   "execution_count": 8,
   "metadata": {},
   "outputs": [],
   "source": [
    "def prep_data(data_train_lvl_2,n1=10,n2=10,n3=5,n4=12):\n",
    "    users_lvl_2 = pd.DataFrame(data_train_lvl_2['user_id'].unique())\n",
    "    reduce_mem_usage(users_lvl_2)\n",
    "    users_lvl_2.columns = ['user_id']\n",
    "\n",
    "    # Пока только warm start\n",
    "    train_users = list(set(data_train_lvl_1['user_id'].unique()) & set(data_val_lvl_1['user_id'].unique()) & set(data_val_lvl_2['user_id'].unique()))\n",
    "    users_lvl_2 = users_lvl_2[users_lvl_2['user_id'].isin(train_users)]\n",
    "    \n",
    "    users_lvl_2['candidates1'] = users_lvl_2['user_id'].apply(lambda x: recommender.get_als_recommendations(x, N=n1))\n",
    "    users_lvl_2['candidates2'] = users_lvl_2['user_id'].apply(lambda x: recommender.get_own_recommendations(x, N=n2))\n",
    "#     users_lvl_2['candidates3'] = users_lvl_2['user_id'].apply(lambda x: recommender.overall_top_purchases[:n3])\n",
    "    users_lvl_2['candidates4'] = users_lvl_2['user_id'].apply(lambda x: recommender.top_purchases[recommender.top_purchases.user_id==x].item_id[:n4].to_list())\n",
    "    users_lvl_2['candidates'] = users_lvl_2.candidates1+users_lvl_2.candidates2+users_lvl_2.candidates4\n",
    "    users_lvl_2=users_lvl_2.drop(['candidates1','candidates2','candidates4'],axis=1)\n",
    "    \n",
    "    \n",
    "    \n",
    "    s = users_lvl_2.apply(lambda x: pd.Series(x['candidates']), axis=1).stack().reset_index(level=1, drop=True)\n",
    "    \n",
    "    s.name = 'item_id'\n",
    "   \n",
    "    users_lvl_2 = users_lvl_2.drop('candidates', axis=1).join(s)\n",
    "    users_lvl_2['flag'] = 1\n",
    "    users_lvl_2=users_lvl_2.groupby(['user_id','item_id']).mean().reset_index()\n",
    "\n",
    "    targets_lvl_2 = data_train_lvl_2[['user_id', 'item_id']].copy()\n",
    "    targets_lvl_2['target'] = 1  # тут только покупки \n",
    "    \n",
    "    targets_lvl_2 = users_lvl_2.merge(targets_lvl_2, on=['user_id', 'item_id'], how='left')\n",
    "   \n",
    "    targets_lvl_2['target'].fillna(0, inplace= True)\n",
    "    targets_lvl_2.drop('flag', axis=1, inplace=True)\n",
    "    \n",
    "    targets_lvl_2 = targets_lvl_2.merge(item_features, on='item_id', how='left')\n",
    "    targets_lvl_2 = targets_lvl_2.merge(user_features, on='user_id', how='left')\n",
    "    \n",
    "    targets_lvl_2.age_desc.replace(['45-54','35-44','25-34','65+','55-64','19-24'],[50,40,30,70,60,20],inplace=True)\n",
    "    targets_lvl_2.age_desc.fillna((targets_lvl_2.age_desc.mean()),inplace=True)\n",
    "    \n",
    "    targets_lvl_2.marital_status_code.replace(['U','A','B'],[2,1,0],inplace=True)\n",
    "    targets_lvl_2.marital_status_code.fillna(10,inplace=True)\n",
    "    \n",
    "\n",
    "#     targets_lvl_2.income_desc.replace(['50-74K','35-49K','75-99K'],[75,50,100],inplace=True)\n",
    "#     targets_lvl_2.income_desc.replace(['25-34K','15-24K','Under 15K'],[35,25,15],inplace=True)\n",
    "#     targets_lvl_2.income_desc.replace(['125-149K','100-124K','150-174K'],[150,125,175],inplace=True)\n",
    "#     targets_lvl_2.income_desc.replace(['175-199K','250K+','200-249K'],[200,300,250],inplace=True)\n",
    "#     targets_lvl_2.income_desc.fillna(targets_lvl_2.income_desc.median(),inplace=True)\n",
    "    \n",
    "#     targets_lvl_2.household_size_desc.value_counts()\n",
    "#     targets_lvl_2.household_size_desc.replace(['2','1','3','5+','4'],[2,1,3,5,4],inplace=True)\n",
    "#     targets_lvl_2.household_size_desc.fillna(targets_lvl_2.household_size_desc.mean(),inplace=True)\n",
    "    \n",
    "#     targets_lvl_2.kid_category_desc.replace(['None/Unknown','1','3+','2'],[0,1,3,2],inplace=True)\n",
    "#     targets_lvl_2.kid_category_desc.fillna(targets_lvl_2.kid_category_desc.median(),inplace=True)\n",
    "    \n",
    "    \n",
    "#     cat_feat=targets_lvl_2.select_dtypes(include='object').columns.tolist()\n",
    "#     targets_lvl_2[cat_feat]=targets_lvl_2[cat_feat].astype('category')\n",
    "#     targets_lvl_2=freq_enc(targets_lvl_2,cat_feat )\n",
    "    \n",
    " \n",
    "    \n",
    "    return targets_lvl_2\n",
    "\n"
   ]
  },
  {
   "cell_type": "code",
   "execution_count": 221,
   "metadata": {},
   "outputs": [],
   "source": [
    "def make_feat(X_train):\n",
    "    \n",
    "#     средняя цена товара\n",
    "    \n",
    "#     t=data.groupby('item_id').sum()[['sales_value','quantity']]\n",
    "#     t['Price']=t.sales_value/t.quantity\n",
    "#     X_train=X_train.merge(t, on='item_id', how='left')\n",
    "    \n",
    "    t=data.groupby(['user_id','item_id']).sum()[['sales_value','quantity']]\n",
    "    t['Price']=t.sales_value/t.quantity\n",
    "    X_train=X_train.merge(t, on=['user_id','item_id'], how='left')\n",
    "    \n",
    "#     средняя сумма и количество в чеке юзера\n",
    "    \n",
    "    t=data.groupby(['user_id','basket_id']).sum()[['sales_value','quantity']].mean(level='user_id')\n",
    "    t.columns=['basket_user_sum_mean','basket_user_quant_mean']\n",
    "    X_train=X_train.merge(t, on='user_id', how='left')\n",
    "    \n",
    "#     среднее количество и средняя стоимость товара в чеке\n",
    "    \n",
    "    t=data.groupby(['item_id','basket_id']).sum()[['sales_value','quantity']].mean(level='item_id')\n",
    "    t.columns=['basket_item_sum_mean','basket_item_quant_mean']\n",
    "    X_train=X_train.merge(t, on='item_id', how='left')\n",
    "    \n",
    "#   сумма скидки по данной позиции по юзеру\n",
    "    \n",
    "    t=data.groupby(['user_id','item_id']).sum()[['retail_disc','coupon_match_disc']]\n",
    "    X_train=X_train.merge(t, on=['user_id','item_id'], how='left')\n",
    "    \n",
    "#  доля скидки от стоимости товара \n",
    "\n",
    "    t=data.groupby(['user_id','item_id']).sum()[['retail_disc','coupon_match_disc','sales_value']]\n",
    "    t['ratio_retail_disc']=t.retail_disc/t.sales_value\n",
    "    t['ratio_coupon_match_disc']=t.coupon_match_disc/t.sales_value\n",
    "    X_train=X_train.merge(t[['ratio_retail_disc','ratio_coupon_match_disc']], on=['user_id','item_id'], how='left')\n",
    "\n",
    "# средняя сумма/цена по категории в разрезе юзера\n",
    "\n",
    "    t=X_train.groupby(['user_id','department']).mean()[['sales_value','Price']]\n",
    "    t.columns=['user_id_department_sum_mean','user_id_department_price_mean']\n",
    "    X_train=X_train.merge(t, on=['user_id','department'], how='left')\n",
    "\n",
    "# средняя сумма/цена по бренду в разрезе юзера    \n",
    "\n",
    "    t=X_train.groupby(['user_id','brand']).mean()[['sales_value','Price']]\n",
    "    t.columns=['user_id_brand_sum_mean','user_id_brand_price_mean']\n",
    "    X_train=X_train.merge(t, on=['user_id','brand'], how='left')\n",
    "\n",
    "# средняя сумма/цена по подкатегории в разрезе юзера \n",
    "\n",
    "    t=X_train.groupby(['user_id','sub_commodity_desc']).mean()[['sales_value','Price']]\n",
    "    t.columns=['user_id_sub_commodity_desc_sum_mean','user_id_sub_commodity_desc_price_mean']\n",
    "    X_train=X_train.merge(t, on=['user_id','sub_commodity_desc'], how='left')\n",
    "    \n",
    "    \n",
    "# Отношение цены товара к средней стоимости товара в чеке    \n",
    "    \n",
    "    X_train['ratio_Price']=X_train['Price']/X_train['basket_item_sum_mean']\n",
    "\n",
    "#     X_train['ratio_quantity']=X_train['quantity']/X_train['basket_item_quant_sum']\n",
    "    \n",
    "\n",
    "    \n",
    "# Отношение цены товара к средней цене в категории\n",
    "\n",
    "    t=X_train.groupby(['department','item_id']).mean()[['Price']]/X_train.groupby(['department']).mean()[['Price']]\n",
    "    t.columns=['ratio_department_price']\n",
    "    X_train=X_train.merge(t, on=['department','item_id'], how='left')    \n",
    "    \n",
    "\n",
    "\n",
    "    return X_train"
   ]
  },
  {
   "cell_type": "code",
   "execution_count": 223,
   "metadata": {},
   "outputs": [
    {
     "name": "stdout",
     "output_type": "stream",
     "text": [
      "Memory usage of dataframe is 0.02 MB\n",
      "Memory usage after optimization is: 0.00 MB\n",
      "Decreased by 74.5%\n",
      "Memory usage of dataframe is 0.01 MB\n",
      "Memory usage after optimization is: 0.00 MB\n",
      "Decreased by 74.4%\n"
     ]
    }
   ],
   "source": [
    "# Подготовка данных\n",
    "\n",
    "X=pd.concat((data_val_lvl_1,data_val_lvl_2), axis=0)\n",
    "test=pd.read_csv('../course_project/retail_test1.csv')\n",
    "\n",
    "X_train_prep=prep_data(X)\n",
    "X_train=make_feat(X_train_prep)\n",
    "y_train = X_train[['target']]\n",
    "X_train = X_train.drop(['target'], axis=1)\n",
    "\n",
    "X_test_prep=prep_data(test)\n",
    "X_test=make_feat(X_test_prep)\n",
    "y_test = X_test[['target']]\n",
    "X_test = X_test.drop(['target'], axis=1)\n",
    "\n",
    "cat_feat=X_train.select_dtypes(include='object').columns.tolist()\n",
    "feat_list=X_train.select_dtypes(exclude='object').columns.tolist()\n",
    "X_train[cat_feat]=X_train[cat_feat].fillna('n')\n",
    "X_test[cat_feat]=X_test[cat_feat].fillna('n')\n",
    "X_train[cat_feat]=X_train[cat_feat].astype('category')\n",
    "X_test[cat_feat]=X_test[cat_feat].astype('category')\n",
    "\n"
   ]
  },
  {
   "cell_type": "code",
   "execution_count": 105,
   "metadata": {},
   "outputs": [],
   "source": [
    "lb_params = {\n",
    "    \"boosting_type\": \"gbdt\",\n",
    "    \"objective\": \"binary\",\n",
    "    \"metric\": \"auc\",\n",
    "    \"learning_rate\": 0.03,\n",
    "    \"n_estimators\": 2000,\n",
    "    'reg_lambda':10,\n",
    "    'max_depth':6,\n",
    "#     'reg_alpha': 1,\n",
    "    'scale_pos_weight':10,\n",
    "    'colsample_bytree':0.3,\n",
    "#     'subsample_freq':10,\n",
    "#      'min_child_weight':1,\n",
    "#     'is_unbalance':True,\n",
    "    'subsample_for_bin':500000,\n",
    "    'num_leaves':80,\n",
    "    'min_child_samples':15,   \n",
    "#     \"n_jobs\": 6,\n",
    "    \"seed\": 101\n",
    "}"
   ]
  },
  {
   "cell_type": "code",
   "execution_count": 187,
   "metadata": {},
   "outputs": [],
   "source": [
    "cb_params = {\n",
    "        \"n_estimators\": 1000,\n",
    "        \"learning_rate\": 0.03,\n",
    "        \"loss_function\": \"Logloss\",\n",
    "        \"eval_metric\": \"AUC\",\n",
    "        \"task_type\": \"CPU\",\n",
    "        \"max_bin\": 50,\n",
    "        \"verbose\": False,\n",
    "        \n",
    "        'min_data_in_leaf': 10,\n",
    "        'scale_pos_weight':0.583333,\n",
    "#         'auto_class_weights':'SqrtBalanced',\n",
    "#         'custom_metric':'RMSE:hints=skip_train~false',\n",
    "#         'boosting_type':'Ordered',\n",
    "        'grow_policy':'SymmetricTree',\n",
    "        'cat_features':cat_feat,\n",
    "        \"max_depth\": 10,\n",
    "        \"l2_leaf_reg\": 7,\n",
    "        \"early_stopping_rounds\": 100,\n",
    "        \"thread_count\": 10,\n",
    "        'random_seed': 101,\n",
    "    }"
   ]
  },
  {
   "cell_type": "code",
   "execution_count": null,
   "metadata": {},
   "outputs": [],
   "source": []
  },
  {
   "cell_type": "code",
   "execution_count": 153,
   "metadata": {},
   "outputs": [
    {
     "data": {
      "text/plain": [
       "0.2829825616355983"
      ]
     },
     "execution_count": 153,
     "metadata": {},
     "output_type": "execute_result"
    }
   ],
   "source": [
    "# Создадим ансамбль из catboost и LGBM\n",
    "\n",
    "lgb=LGBMClassifier(**lb_params)\n",
    "cb = CatBoostClassifier(**cb_params)\n",
    "vc=VotingClassifier(estimators=[('lgb',lgb),('cb', cb)], voting='soft',weights=[8.16666,1])\n",
    "vc.fit(X_train, y_train)\n",
    "metr(X_test,y_test,vc.predict_proba(X_test))"
   ]
  },
  {
   "cell_type": "code",
   "execution_count": null,
   "metadata": {},
   "outputs": [],
   "source": []
  },
  {
   "cell_type": "code",
   "execution_count": 226,
   "metadata": {},
   "outputs": [
    {
     "data": {
      "image/png": "[encoded data removed]",
      "text/plain": [
       "<Figure size 576x396 with 1 Axes>"
      ]
     },
     "metadata": {
      "needs_background": "light"
     },
     "output_type": "display_data"
    }
   ],
   "source": [
    "# Важность признаков\n",
    "\n",
    "explainer = shap.TreeExplainer(lgb)\n",
    "shap_values = explainer.shap_values(X_test,y_test)\n",
    "shap.summary_plot(shap_values, X_test,max_display=10 )"
   ]
  },
  {
   "cell_type": "code",
   "execution_count": null,
   "metadata": {},
   "outputs": [],
   "source": []
  }
 ],
 "metadata": {
  "colab": {
   "name": "hw_webinar_6.ipynb",
   "provenance": []
  },
  "kernelspec": {
   "display_name": "Python 3",
   "language": "python",
   "name": "python3"
  },
  "language_info": {
   "codemirror_mode": {
    "name": "ipython",
    "version": 3
   },
   "file_extension": ".py",
   "mimetype": "text/x-python",
   "name": "python",
   "nbconvert_exporter": "python",
   "pygments_lexer": "ipython3",
   "version": "3.8.5"
  }
 },
 "nbformat": 4,
 "nbformat_minor": 1
}
